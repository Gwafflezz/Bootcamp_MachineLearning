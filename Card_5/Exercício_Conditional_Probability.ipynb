{
 "cells": [
  {
   "cell_type": "code",
   "execution_count": 1,
   "id": "8db82cd5",
   "metadata": {},
   "outputs": [],
   "source": [
    "from numpy import random\n",
    "random.seed()"
   ]
  },
  {
   "cell_type": "code",
   "execution_count": 57,
   "id": "c0e21315",
   "metadata": {},
   "outputs": [],
   "source": [
    "#total = {20:0, 30:0, 40:0, 50:0, 60:0, 70:0}\n",
    "#compras = {20:0, 30:0, 40:0, 50:0, 60:0, 70:0}\n",
    "#totalCompras = 0\n",
    "#for _ in range(100000):\n",
    " #   decada = random.choice([20, 30, 40, 50, 60, 70])\n",
    "  #  probCompra = float(decada) / 100.0\n",
    "   # total[decada] += 1\n",
    "   # if (random.random() < probCompra):\n",
    "    #    totalCompras += 1\n",
    "     #   compras[decada] += 1\n",
    "        \n",
    "total = {20:0, 30:0, 40:0, 50:0, 60:0, 70:0}\n",
    "compras = {20:0, 30:0, 40:0, 50:0, 60:0, 70:0}\n",
    "totalCompras = 0\n",
    "for _ in range(100000):\n",
    "    decada = random.choice([20, 30, 40, 50, 60, 70])\n",
    "    probCompra = 0.4\n",
    "    total[decada] += 1\n",
    "   # purchase = random.random() < probCompra  # Generate a True/False for purchase\n",
    "   # totalCompras += purchase\n",
    "   # compras[decada] += purchase\n",
    "\n",
    "    if (random.random() < probCompra):\n",
    "        totalCompras += 1\n",
    "        compras[decada] += 1"
   ]
  },
  {
   "cell_type": "code",
   "execution_count": 58,
   "id": "ec1fa4c3",
   "metadata": {
    "scrolled": false
   },
   "outputs": [
    {
     "data": {
      "text/plain": [
       "{20: 16769, 30: 16594, 40: 16578, 50: 16672, 60: 16637, 70: 16750}"
      ]
     },
     "execution_count": 58,
     "metadata": {},
     "output_type": "execute_result"
    }
   ],
   "source": [
    "total"
   ]
  },
  {
   "cell_type": "code",
   "execution_count": 59,
   "id": "e7aad4da",
   "metadata": {},
   "outputs": [
    {
     "data": {
      "text/plain": [
       "{20: 6636, 30: 6638, 40: 6667, 50: 6637, 60: 6566, 70: 6731}"
      ]
     },
     "execution_count": 59,
     "metadata": {},
     "output_type": "execute_result"
    }
   ],
   "source": [
    "compras"
   ]
  },
  {
   "cell_type": "code",
   "execution_count": 60,
   "id": "b4f45eb4",
   "metadata": {},
   "outputs": [
    {
     "data": {
      "text/plain": [
       "39875"
      ]
     },
     "execution_count": 60,
     "metadata": {},
     "output_type": "execute_result"
    }
   ],
   "source": [
    "totalCompras"
   ]
  },
  {
   "cell_type": "code",
   "execution_count": 63,
   "id": "c0716cd9",
   "metadata": {},
   "outputs": [
    {
     "name": "stdout",
     "output_type": "stream",
     "text": [
      "P(Purchase):0.39875\n"
     ]
    }
   ],
   "source": [
    "PE = float(totalCompras) / 100000.0\n",
    "print(\"P(Purchase):\" + str(PE))"
   ]
  },
  {
   "cell_type": "code",
   "execution_count": 64,
   "id": "063e9e5c",
   "metadata": {},
   "outputs": [
    {
     "name": "stdout",
     "output_type": "stream",
     "text": [
      "P(purchase | 30s): 0.4000241050982283\n"
     ]
    }
   ],
   "source": [
    "PEF = float(compras[30]) / float(total[30])\n",
    "print('P(purchase | 30s): ' + str(PEF))"
   ]
  },
  {
   "cell_type": "markdown",
   "id": "1fa0257d",
   "metadata": {},
   "source": [
    "# Teorema de Bayers\n"
   ]
  },
  {
   "cell_type": "code",
   "execution_count": null,
   "id": "76b81c74",
   "metadata": {},
   "outputs": [],
   "source": [
    "# só teoria, nem teve código"
   ]
  }
 ],
 "metadata": {
  "kernelspec": {
   "display_name": "Python 3 (ipykernel)",
   "language": "python",
   "name": "python3"
  },
  "language_info": {
   "codemirror_mode": {
    "name": "ipython",
    "version": 3
   },
   "file_extension": ".py",
   "mimetype": "text/x-python",
   "name": "python",
   "nbconvert_exporter": "python",
   "pygments_lexer": "ipython3",
   "version": "3.11.2"
  }
 },
 "nbformat": 4,
 "nbformat_minor": 5
}
