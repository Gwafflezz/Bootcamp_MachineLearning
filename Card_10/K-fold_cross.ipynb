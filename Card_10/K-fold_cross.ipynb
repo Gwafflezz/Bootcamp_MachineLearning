{
 "cells": [
  {
   "cell_type": "code",
   "execution_count": null,
   "id": "2b02ba3b-a79b-403a-9971-d7f4e7dee275",
   "metadata": {},
   "outputs": [],
   "source": [
    "import numpy as np\n",
    "from sklearn.model_selection import train_test_split\n",
    "from sklearn import datasets\n",
    "from sklearn import svm\n",
    "\n",
    "iris = datasets.load_iris()\n"
   ]
  },
  {
   "cell_type": "code",
   "execution_count": null,
   "id": "ae8d3596-e087-49c0-818e-026e83a39087",
   "metadata": {},
   "outputs": [],
   "source": [
    "\n",
    "X, y = iris.data, iris.target\n",
    "\n",
    "# serpara os dados em datasets de teste e treino\n",
    "X_train, X_test, y_train, y_test = train_test_split(X, y, test_size=0.4, random_state=0)\n",
    "\n",
    "# Cria um modelo SVC para predizer a classificação\n",
    "clf = SVC(kernel='linear', random_state=0)\n",
    "\n",
    "# treina o classificador\n",
    "clf.fit(X_train, y_train)\n",
    "\n",
    "# faz predições no dataset\n",
    "y_pred = clf.predict(X_test)\n",
    "\n",
    "# Avalia a performance do classificador\n",
    "accuracy = accuracy_score(y_test, y_pred)\n",
    "\n",
    "print(f\"Accuracy: {accuracy:.4f}\")\n"
   ]
  },
  {
   "cell_type": "code",
   "execution_count": null,
   "id": "d978c589-c8e2-41b7-b681-005c9a0cdda0",
   "metadata": {},
   "outputs": [],
   "source": [
    "# Atribui ao cross_val_score o dataset, seus valores e numero de \"folds\"\n",
    "from sklearn.model_selection import cross_val_score\n",
    "scores = cross_val_score(clf, X, y, cv=2\n",
    "                         , scoring='accuracy')\n",
    "\n",
    "print(\"Accuracy scores:\", scores)\n",
    "print(\"Mean accuracy:\", scores.mean())\n"
   ]
  },
  {
   "cell_type": "code",
   "execution_count": null,
   "id": "f58c3825-4856-49e6-89c6-5c5c47f71c61",
   "metadata": {},
   "outputs": [],
   "source": [
    "clf = svm.SVC(kernel ='poly', C=1).fit(X_train, y_train)\n",
    "scores = cross_val_score(clf, iris.data, iris.target, cv=5)\n",
    "print(scores)\n",
    "print (scores.mean())\n"
   ]
  },
  {
   "cell_type": "code",
   "execution_count": null,
   "id": "7523fa75-60f2-44da-b6eb-30e0e4212774",
   "metadata": {},
   "outputs": [],
   "source": []
  },
  {
   "cell_type": "code",
   "execution_count": null,
   "id": "07fbf21d-8eb6-4665-bc9d-7b40a6906cc8",
   "metadata": {},
   "outputs": [],
   "source": []
  },
  {
   "cell_type": "raw",
   "id": "27d97860-51dc-4403-b64b-73beeda1a254",
   "metadata": {},
   "source": []
  }
 ],
 "metadata": {
  "kernelspec": {
   "display_name": "Python 3 (ipykernel)",
   "language": "python",
   "name": "python3"
  },
  "language_info": {
   "codemirror_mode": {
    "name": "ipython",
    "version": 3
   },
   "file_extension": ".py",
   "mimetype": "text/x-python",
   "name": "python",
   "nbconvert_exporter": "python",
   "pygments_lexer": "ipython3",
   "version": "3.11.2"
  }
 },
 "nbformat": 4,
 "nbformat_minor": 5
}
