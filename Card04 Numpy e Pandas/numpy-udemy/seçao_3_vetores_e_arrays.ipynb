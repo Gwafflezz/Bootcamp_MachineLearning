{
 "cells": [
  {
   "cell_type": "markdown",
   "id": "26dc05b2",
   "metadata": {},
   "source": [
    "# aulinha da udemy "
   ]
  },
  {
   "cell_type": "code",
   "execution_count": null,
   "id": "7187c814",
   "metadata": {},
   "outputs": [],
   "source": []
  },
  {
   "cell_type": "code",
   "execution_count": 1,
   "id": "63cd6fd4",
   "metadata": {},
   "outputs": [],
   "source": [
    "import numpy as np \n",
    "my_list = [1,2,3]"
   ]
  },
  {
   "cell_type": "code",
   "execution_count": 2,
   "id": "37a60999",
   "metadata": {},
   "outputs": [
    {
     "data": {
      "text/plain": [
       "array([1, 2, 3])"
      ]
     },
     "execution_count": 2,
     "metadata": {},
     "output_type": "execute_result"
    }
   ],
   "source": [
    "np.array(my_list)"
   ]
  },
  {
   "cell_type": "code",
   "execution_count": 3,
   "id": "3657b697",
   "metadata": {},
   "outputs": [],
   "source": [
    "my_matrix = [[1,2,3,],[4,5,6],[7,8,9]]"
   ]
  },
  {
   "cell_type": "code",
   "execution_count": 4,
   "id": "e62e35ca",
   "metadata": {},
   "outputs": [
    {
     "data": {
      "text/plain": [
       "array([[1, 2, 3],\n",
       "       [4, 5, 6],\n",
       "       [7, 8, 9]])"
      ]
     },
     "execution_count": 4,
     "metadata": {},
     "output_type": "execute_result"
    }
   ],
   "source": [
    "np.array(my_matrix)"
   ]
  },
  {
   "cell_type": "code",
   "execution_count": 5,
   "id": "f112740e",
   "metadata": {},
   "outputs": [
    {
     "data": {
      "text/plain": [
       "array([0, 1, 2, 3, 4, 5, 6, 7, 8, 9])"
      ]
     },
     "execution_count": 5,
     "metadata": {},
     "output_type": "execute_result"
    }
   ],
   "source": [
    "np.arange(0,10)"
   ]
  },
  {
   "cell_type": "code",
   "execution_count": 6,
   "id": "a9a319b5",
   "metadata": {},
   "outputs": [
    {
     "data": {
      "text/plain": [
       "array([0, 2, 4, 6, 8])"
      ]
     },
     "execution_count": 6,
     "metadata": {},
     "output_type": "execute_result"
    }
   ],
   "source": [
    "np.arange(0,10,2)"
   ]
  },
  {
   "cell_type": "code",
   "execution_count": 10,
   "id": "22d8e52c",
   "metadata": {},
   "outputs": [],
   "source": [
    "arr = np.zeros([3,3])"
   ]
  },
  {
   "cell_type": "code",
   "execution_count": 11,
   "id": "5faee726",
   "metadata": {},
   "outputs": [
    {
     "data": {
      "text/plain": [
       "array([[0., 0., 0.],\n",
       "       [0., 0., 0.],\n",
       "       [0., 0., 0.]])"
      ]
     },
     "execution_count": 11,
     "metadata": {},
     "output_type": "execute_result"
    }
   ],
   "source": [
    "arr"
   ]
  },
  {
   "cell_type": "code",
   "execution_count": 12,
   "id": "6e162453",
   "metadata": {},
   "outputs": [
    {
     "data": {
      "text/plain": [
       "array([[1., 1., 1., 1., 1.],\n",
       "       [1., 1., 1., 1., 1.],\n",
       "       [1., 1., 1., 1., 1.],\n",
       "       [1., 1., 1., 1., 1.],\n",
       "       [1., 1., 1., 1., 1.]])"
      ]
     },
     "execution_count": 12,
     "metadata": {},
     "output_type": "execute_result"
    }
   ],
   "source": [
    "np.ones([5,5])"
   ]
  },
  {
   "cell_type": "code",
   "execution_count": 13,
   "id": "825adcff",
   "metadata": {},
   "outputs": [
    {
     "data": {
      "text/plain": [
       "array([[1., 0., 0., 0.],\n",
       "       [0., 1., 0., 0.],\n",
       "       [0., 0., 1., 0.],\n",
       "       [0., 0., 0., 1.]])"
      ]
     },
     "execution_count": 13,
     "metadata": {},
     "output_type": "execute_result"
    }
   ],
   "source": [
    "np.eye(4)"
   ]
  },
  {
   "cell_type": "code",
   "execution_count": 17,
   "id": "75c7f0fa",
   "metadata": {},
   "outputs": [
    {
     "data": {
      "text/plain": [
       "array([ 0.,  5., 10.])"
      ]
     },
     "execution_count": 17,
     "metadata": {},
     "output_type": "execute_result"
    }
   ],
   "source": [
    "np.linspace(0,10,3)"
   ]
  },
  {
   "cell_type": "code",
   "execution_count": 20,
   "id": "103c1bd6",
   "metadata": {},
   "outputs": [
    {
     "data": {
      "text/plain": [
       "array([51.8259543 , 14.37437966, 85.53648294,  4.40198689, 79.02266497])"
      ]
     },
     "execution_count": 20,
     "metadata": {},
     "output_type": "execute_result"
    }
   ],
   "source": [
    "np.random.rand(5)"
   ]
  },
  {
   "cell_type": "code",
   "execution_count": 22,
   "id": "d95cc612",
   "metadata": {},
   "outputs": [
    {
     "data": {
      "text/plain": [
       "array([[[0.26332687, 0.6557344 , 0.14519922],\n",
       "        [0.10174961, 0.53049835, 0.03058618],\n",
       "        [0.45522498, 0.30897858, 0.99498771],\n",
       "        [0.32156658, 0.1830906 , 0.67647109]],\n",
       "\n",
       "       [[0.44324278, 0.9825011 , 0.85821991],\n",
       "        [0.86777393, 0.63838727, 0.29747784],\n",
       "        [0.15621781, 0.6745583 , 0.75615344],\n",
       "        [0.25953397, 0.30474165, 0.98382662]],\n",
       "\n",
       "       [[0.35373201, 0.77392723, 0.39955893],\n",
       "        [0.38200243, 0.38484524, 0.4560782 ],\n",
       "        [0.81544394, 0.45263206, 0.19246176],\n",
       "        [0.76298424, 0.43081139, 0.10149922]],\n",
       "\n",
       "       [[0.36442116, 0.27970863, 0.47571718],\n",
       "        [0.14319592, 0.90939207, 0.40285214],\n",
       "        [0.23707583, 0.95615765, 0.29985169],\n",
       "        [0.0845804 , 0.04183286, 0.07002733]],\n",
       "\n",
       "       [[0.70446924, 0.39844058, 0.0198198 ],\n",
       "        [0.85347982, 0.44784081, 0.95478935],\n",
       "        [0.2966998 , 0.68887387, 0.77902664],\n",
       "        [0.50821056, 0.54612287, 0.81989556]]])"
      ]
     },
     "execution_count": 22,
     "metadata": {},
     "output_type": "execute_result"
    }
   ],
   "source": [
    "np.random.rand(5,4,3)"
   ]
  },
  {
   "cell_type": "code",
   "execution_count": 23,
   "id": "a677c6af",
   "metadata": {},
   "outputs": [
    {
     "data": {
      "text/plain": [
       "array([-0.3082194 ,  1.21435833,  0.7849401 ,  0.34687509])"
      ]
     },
     "execution_count": 23,
     "metadata": {},
     "output_type": "execute_result"
    }
   ],
   "source": [
    "np.random.randn(4) # não sao tirados de distribuição uniforme"
   ]
  },
  {
   "cell_type": "code",
   "execution_count": 25,
   "id": "96b185a1",
   "metadata": {},
   "outputs": [
    {
     "data": {
      "text/plain": [
       "array([13, 30, 47, 98, 16, 46, 99, 21, 35, 66])"
      ]
     },
     "execution_count": 25,
     "metadata": {},
     "output_type": "execute_result"
    }
   ],
   "source": [
    "np.random.randint(0,100,10)"
   ]
  },
  {
   "cell_type": "code",
   "execution_count": 28,
   "id": "e60918fa",
   "metadata": {},
   "outputs": [
    {
     "data": {
      "text/plain": [
       "array([99., 12., 15., 53., 63.])"
      ]
     },
     "execution_count": 28,
     "metadata": {},
     "output_type": "execute_result"
    }
   ],
   "source": [
    "np.round(np.random.rand(5)*100,0)"
   ]
  },
  {
   "cell_type": "code",
   "execution_count": 32,
   "id": "a6ae6992",
   "metadata": {},
   "outputs": [],
   "source": [
    "arr = np.random.rand(25)"
   ]
  },
  {
   "cell_type": "code",
   "execution_count": 33,
   "id": "98eea61a",
   "metadata": {},
   "outputs": [
    {
     "data": {
      "text/plain": [
       "array([0.68958788, 0.60936245, 0.24046281, 0.60204278, 0.49696212,\n",
       "       0.28533412, 0.17735001, 0.94874017, 0.47634711, 0.57245511,\n",
       "       0.71952916, 0.55660236, 0.21473541, 0.96968944, 0.37243048,\n",
       "       0.30903058, 0.24727416, 0.17330242, 0.78218596, 0.52358204,\n",
       "       0.27408502, 0.9681492 , 0.51113431, 0.97311611, 0.78684664])"
      ]
     },
     "execution_count": 33,
     "metadata": {},
     "output_type": "execute_result"
    }
   ],
   "source": [
    "arr"
   ]
  },
  {
   "cell_type": "code",
   "execution_count": 34,
   "id": "38f455aa",
   "metadata": {},
   "outputs": [
    {
     "data": {
      "text/plain": [
       "array([[0.68958788, 0.60936245, 0.24046281, 0.60204278, 0.49696212],\n",
       "       [0.28533412, 0.17735001, 0.94874017, 0.47634711, 0.57245511],\n",
       "       [0.71952916, 0.55660236, 0.21473541, 0.96968944, 0.37243048],\n",
       "       [0.30903058, 0.24727416, 0.17330242, 0.78218596, 0.52358204],\n",
       "       [0.27408502, 0.9681492 , 0.51113431, 0.97311611, 0.78684664]])"
      ]
     },
     "execution_count": 34,
     "metadata": {},
     "output_type": "execute_result"
    }
   ],
   "source": [
    "arr.reshape(5,5)"
   ]
  },
  {
   "cell_type": "code",
   "execution_count": 35,
   "id": "81ba7905",
   "metadata": {},
   "outputs": [
    {
     "data": {
      "text/plain": [
       "(25,)"
      ]
     },
     "execution_count": 35,
     "metadata": {},
     "output_type": "execute_result"
    }
   ],
   "source": [
    "arr.shape # não´e método, é parâmetro do array"
   ]
  },
  {
   "cell_type": "code",
   "execution_count": 37,
   "id": "0c8d96ca",
   "metadata": {},
   "outputs": [
    {
     "data": {
      "text/plain": [
       "0.9731161100620722"
      ]
     },
     "execution_count": 37,
     "metadata": {},
     "output_type": "execute_result"
    }
   ],
   "source": [
    "arr.max()"
   ]
  },
  {
   "cell_type": "code",
   "execution_count": 38,
   "id": "2b98fa52",
   "metadata": {},
   "outputs": [
    {
     "data": {
      "text/plain": [
       "0.9731161100620722"
      ]
     },
     "execution_count": 38,
     "metadata": {},
     "output_type": "execute_result"
    }
   ],
   "source": [
    "arr.max()"
   ]
  },
  {
   "cell_type": "code",
   "execution_count": 40,
   "id": "139a291c",
   "metadata": {},
   "outputs": [
    {
     "data": {
      "text/plain": [
       "23"
      ]
     },
     "execution_count": 40,
     "metadata": {},
     "output_type": "execute_result"
    }
   ],
   "source": [
    "arr.argmax()"
   ]
  },
  {
   "cell_type": "code",
   "execution_count": 43,
   "id": "8759d16c",
   "metadata": {},
   "outputs": [
    {
     "data": {
      "text/plain": [
       "17"
      ]
     },
     "execution_count": 43,
     "metadata": {},
     "output_type": "execute_result"
    }
   ],
   "source": [
    "arr.argmin()"
   ]
  },
  {
   "cell_type": "code",
   "execution_count": null,
   "id": "d7249a1c",
   "metadata": {},
   "outputs": [],
   "source": []
  },
  {
   "cell_type": "code",
   "execution_count": null,
   "id": "421a88d6",
   "metadata": {},
   "outputs": [],
   "source": []
  },
  {
   "cell_type": "code",
   "execution_count": null,
   "id": "81c0ea17",
   "metadata": {},
   "outputs": [],
   "source": []
  },
  {
   "cell_type": "code",
   "execution_count": null,
   "id": "f45f20fe",
   "metadata": {},
   "outputs": [],
   "source": []
  },
  {
   "cell_type": "code",
   "execution_count": null,
   "id": "89cd0ff5",
   "metadata": {},
   "outputs": [],
   "source": []
  }
 ],
 "metadata": {
  "kernelspec": {
   "display_name": "Python 3 (ipykernel)",
   "language": "python",
   "name": "python3"
  },
  "language_info": {
   "codemirror_mode": {
    "name": "ipython",
    "version": 3
   },
   "file_extension": ".py",
   "mimetype": "text/x-python",
   "name": "python",
   "nbconvert_exporter": "python",
   "pygments_lexer": "ipython3",
   "version": "3.11.2"
  }
 },
 "nbformat": 4,
 "nbformat_minor": 5
}
