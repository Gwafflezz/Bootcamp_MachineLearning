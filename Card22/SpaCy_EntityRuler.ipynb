{
 "cells": [
  {
   "cell_type": "markdown",
   "id": "c2a14731-391d-42b1-b3f1-eb4ba4b56695",
   "metadata": {},
   "source": [
    "Introduzindo um entiyruler para identificar pequenas vilas na polândia"
   ]
  },
  {
   "cell_type": "code",
   "execution_count": 2,
   "id": "23b6ab5b-7e49-4e32-88ae-92733ba0c6c7",
   "metadata": {},
   "outputs": [],
   "source": [
    "import spacy"
   ]
  },
  {
   "cell_type": "code",
   "execution_count": 3,
   "id": "59cb290c-e018-407f-94cd-bd457f792b6e",
   "metadata": {},
   "outputs": [],
   "source": [
    "nlp = spacy.load(\"en_core_web_sm\")"
   ]
  },
  {
   "cell_type": "code",
   "execution_count": 6,
   "id": "faf1c8eb-375a-4dc9-90a9-1a52da265fd2",
   "metadata": {},
   "outputs": [],
   "source": [
    "text = \"The village of Treblinka is in Poland. Treblinka was also an extermination camp.\"\n",
    "doc = nlp(text)"
   ]
  },
  {
   "cell_type": "code",
   "execution_count": 7,
   "id": "1e3a6e81-14a7-4f95-a36d-49bf38c116e6",
   "metadata": {},
   "outputs": [
    {
     "name": "stdout",
     "output_type": "stream",
     "text": [
      "Treblinka GPE\n",
      "Poland GPE\n"
     ]
    }
   ],
   "source": [
    "for ent in doc.ents:\n",
    "    print (ent.text, ent.label_)"
   ]
  },
  {
   "cell_type": "code",
   "execution_count": 18,
   "id": "e4c121bf-c461-4297-adfd-48a0c1ee92f1",
   "metadata": {},
   "outputs": [],
   "source": [
    "#Adicionando padrore ao entityRuler\n",
    "patterns = [\n",
    "                {\"label\": \"GPE\", \"pattern\": \"Treblinka\"}\n",
    "            ]\n",
    "\n",
    "ruler.add_patterns(patterns)\n"
   ]
  },
  {
   "cell_type": "code",
   "execution_count": 20,
   "id": "2b7e6e88-baf2-4eba-a81a-b9a891896c22",
   "metadata": {},
   "outputs": [
    {
     "name": "stdout",
     "output_type": "stream",
     "text": [
      "Treblinka GPE\n",
      "Poland GPE\n",
      "Treblinka GPE\n"
     ]
    }
   ],
   "source": [
    "for ent in doc.ents:\n",
    "    print (ent.text, ent.label_)"
   ]
  },
  {
   "cell_type": "code",
   "execution_count": 15,
   "id": "f372dbe8-8102-43e1-bd67-b93a2653ae7d",
   "metadata": {},
   "outputs": [
    {
     "data": {
      "text/plain": [
       "{'summary': {'tok2vec': {'assigns': ['doc.tensor'],\n",
       "   'requires': [],\n",
       "   'scores': [],\n",
       "   'retokenizes': False},\n",
       "  'tagger': {'assigns': ['token.tag'],\n",
       "   'requires': [],\n",
       "   'scores': ['tag_acc'],\n",
       "   'retokenizes': False},\n",
       "  'parser': {'assigns': ['token.dep',\n",
       "    'token.head',\n",
       "    'token.is_sent_start',\n",
       "    'doc.sents'],\n",
       "   'requires': [],\n",
       "   'scores': ['dep_uas',\n",
       "    'dep_las',\n",
       "    'dep_las_per_type',\n",
       "    'sents_p',\n",
       "    'sents_r',\n",
       "    'sents_f'],\n",
       "   'retokenizes': False},\n",
       "  'attribute_ruler': {'assigns': [],\n",
       "   'requires': [],\n",
       "   'scores': [],\n",
       "   'retokenizes': False},\n",
       "  'lemmatizer': {'assigns': ['token.lemma'],\n",
       "   'requires': [],\n",
       "   'scores': ['lemma_acc'],\n",
       "   'retokenizes': False},\n",
       "  'ner': {'assigns': ['doc.ents', 'token.ent_iob', 'token.ent_type'],\n",
       "   'requires': [],\n",
       "   'scores': ['ents_f', 'ents_p', 'ents_r', 'ents_per_type'],\n",
       "   'retokenizes': False},\n",
       "  'entity_ruler': {'assigns': ['doc.ents', 'token.ent_type', 'token.ent_iob'],\n",
       "   'requires': [],\n",
       "   'scores': ['ents_f', 'ents_p', 'ents_r', 'ents_per_type'],\n",
       "   'retokenizes': False}},\n",
       " 'problems': {'tok2vec': [],\n",
       "  'tagger': [],\n",
       "  'parser': [],\n",
       "  'attribute_ruler': [],\n",
       "  'lemmatizer': [],\n",
       "  'ner': [],\n",
       "  'entity_ruler': []},\n",
       " 'attrs': {'doc.ents': {'assigns': ['ner', 'entity_ruler'], 'requires': []},\n",
       "  'token.lemma': {'assigns': ['lemmatizer'], 'requires': []},\n",
       "  'doc.sents': {'assigns': ['parser'], 'requires': []},\n",
       "  'token.ent_iob': {'assigns': ['ner', 'entity_ruler'], 'requires': []},\n",
       "  'token.head': {'assigns': ['parser'], 'requires': []},\n",
       "  'token.dep': {'assigns': ['parser'], 'requires': []},\n",
       "  'token.ent_type': {'assigns': ['ner', 'entity_ruler'], 'requires': []},\n",
       "  'token.tag': {'assigns': ['tagger'], 'requires': []},\n",
       "  'token.is_sent_start': {'assigns': ['parser'], 'requires': []},\n",
       "  'doc.tensor': {'assigns': ['tok2vec'], 'requires': []}}}"
      ]
     },
     "execution_count": 15,
     "metadata": {},
     "output_type": "execute_result"
    }
   ],
   "source": [
    "nlp.analyze_pipes()"
   ]
  },
  {
   "cell_type": "markdown",
   "id": "7273c925-140c-426d-be50-eecc27cb5167",
   "metadata": {},
   "source": [
    "### regras complexas e variância:"
   ]
  },
  {
   "cell_type": "markdown",
   "id": "78f4b5c5-9ce3-41fd-b67d-6f3e3d100144",
   "metadata": {},
   "source": [
    "Exemplo para extração de números de telefone de uma lista"
   ]
  },
  {
   "cell_type": "code",
   "execution_count": 36,
   "id": "e6ee72d2-2d8f-41dd-9651-d8d16f3d71c1",
   "metadata": {},
   "outputs": [],
   "source": [
    "text = \"This ias a sample number (555) 555-5555.\""
   ]
  },
  {
   "cell_type": "code",
   "execution_count": 37,
   "id": "37ca2fdd-7644-4be8-a097-c946644573cf",
   "metadata": {},
   "outputs": [],
   "source": [
    "nlp = spacy.blank(\"en\") # modelo em branco"
   ]
  },
  {
   "cell_type": "code",
   "execution_count": 38,
   "id": "837c1b09-6419-42e7-a002-d2db42d02d8d",
   "metadata": {},
   "outputs": [],
   "source": [
    "ruler = nlp.add_pipe(\"entity_ruler\")\n",
    "\n",
    "patterns = [\n",
    "                {\"label\": \"PHONE_NUMBER\", \"pattern\": [{\"ORTH\": \"(\"}, {\"SHAPE\": \"ddd\"}, {\"ORTH\": \")\"}, {\"SHAPE\": \"ddd\"},\n",
    "                {\"ORTH\": \"-\", \"OP\": \"?\"}, {\"SHAPE\": \"dddd\"}]}\n",
    "            ]\n",
    "\n",
    "ruler.add_patterns(patterns)"
   ]
  },
  {
   "cell_type": "code",
   "execution_count": 39,
   "id": "65ec06db-d976-44d1-8cea-0f6b7504c11a",
   "metadata": {},
   "outputs": [],
   "source": [
    "doc = nlp(text)"
   ]
  },
  {
   "cell_type": "code",
   "execution_count": 40,
   "id": "d6f93433-47a9-4739-837e-7e4a12b59614",
   "metadata": {},
   "outputs": [
    {
     "name": "stdout",
     "output_type": "stream",
     "text": [
      "(555) 555-5555 PHONE_NUMBER\n"
     ]
    }
   ],
   "source": [
    "for ent in doc.ents:\n",
    "    print (ent.text, ent.label_)"
   ]
  },
  {
   "cell_type": "code",
   "execution_count": 49,
   "id": "ebec66c6-db2d-4050-8d43-b202dc3deaf0",
   "metadata": {},
   "outputs": [],
   "source": [
    "nlp2 = spacy.load(\"en_core_web_sm\") # criando novo objeto \n",
    "text2 = \"West Chestertenfieldville was referenced in Mr. Deeds.\""
   ]
  },
  {
   "cell_type": "code",
   "execution_count": 50,
   "id": "a38d2f85-7dfe-4400-895e-4e0dcda131ec",
   "metadata": {},
   "outputs": [],
   "source": [
    "ruler = nlp2.add_pipe(\"entity_ruler\", before=\"ner\") # adicionando \"entity_ruler\" ao pipeline de processamento "
   ]
  },
  {
   "cell_type": "code",
   "execution_count": 51,
   "id": "91f699b8-1732-47d6-b40d-0dc80533207e",
   "metadata": {},
   "outputs": [],
   "source": [
    "ruler.add_patterns(patterns) # adicionando os padroes "
   ]
  },
  {
   "cell_type": "code",
   "execution_count": 52,
   "id": "af8fba32-a917-4f0f-8638-8675ab7b99c3",
   "metadata": {},
   "outputs": [],
   "source": [
    "doc2 = nlp2(text2)"
   ]
  },
  {
   "cell_type": "code",
   "execution_count": 54,
   "id": "11055e6b-015a-4ea5-96a4-636d50ac1bc7",
   "metadata": {},
   "outputs": [
    {
     "name": "stdout",
     "output_type": "stream",
     "text": [
      "West Chestertenfieldville GPE\n",
      "Deeds PERSON\n"
     ]
    }
   ],
   "source": [
    "for ent in doc2.ents:\n",
    "    print (ent.text, ent.label_)"
   ]
  },
  {
   "cell_type": "code",
   "execution_count": null,
   "id": "43dac107-811b-4cc3-8627-4ff3e909bdf1",
   "metadata": {},
   "outputs": [],
   "source": []
  }
 ],
 "metadata": {
  "kernelspec": {
   "display_name": "Python 3 (ipykernel)",
   "language": "python",
   "name": "python3"
  },
  "language_info": {
   "codemirror_mode": {
    "name": "ipython",
    "version": 3
   },
   "file_extension": ".py",
   "mimetype": "text/x-python",
   "name": "python",
   "nbconvert_exporter": "python",
   "pygments_lexer": "ipython3",
   "version": "3.12.3"
  }
 },
 "nbformat": 4,
 "nbformat_minor": 5
}
