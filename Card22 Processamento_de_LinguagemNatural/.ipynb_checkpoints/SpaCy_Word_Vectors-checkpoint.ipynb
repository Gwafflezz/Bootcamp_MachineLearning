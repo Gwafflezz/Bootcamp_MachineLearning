{
 "cells": [
  {
   "cell_type": "markdown",
   "id": "a04ade5c-9351-4d84-b2c2-5e598e1aa03c",
   "metadata": {},
   "source": [
    "## Word Vectors"
   ]
  },
  {
   "cell_type": "code",
   "execution_count": 1,
   "id": "8561c7bb-b8ab-4295-9c22-5c4f4539523f",
   "metadata": {},
   "outputs": [],
   "source": [
    "import spacy\n",
    "import numpy as np"
   ]
  },
  {
   "cell_type": "raw",
   "id": "abfe72b4-4822-4f8e-8f96-3e0caf0a64c5",
   "metadata": {},
   "source": [
    "!python -m spacy download en_core_web_md"
   ]
  },
  {
   "cell_type": "code",
   "execution_count": 2,
   "id": "420c8559-546f-4afe-b4b5-dfc846b650b8",
   "metadata": {},
   "outputs": [],
   "source": [
    "nlp = spacy.load(\"en_core_web_md\")"
   ]
  },
  {
   "cell_type": "code",
   "execution_count": 3,
   "id": "459584d1-5703-4e3e-ae05-62690fb93122",
   "metadata": {},
   "outputs": [],
   "source": [
    "with open(\"freecodecamp_spacy/data/wiki_us.txt\", \"r\") as f:\n",
    "    text = f.read()"
   ]
  },
  {
   "cell_type": "code",
   "execution_count": 4,
   "id": "8d4012c2-ea16-43f8-a95f-f0ef54d62e0f",
   "metadata": {},
   "outputs": [
    {
     "name": "stdout",
     "output_type": "stream",
     "text": [
      "The United States of America (U.S.A. or USA), commonly known as the United States (U.S. or US) or America, is a country primarily located in North America.\n"
     ]
    }
   ],
   "source": [
    "doc = nlp(text)\n",
    "sentence1 = list(doc.sents)[0]\n",
    "print(sentence1)"
   ]
  },
  {
   "cell_type": "code",
   "execution_count": 5,
   "id": "7017275c-d359-4ab2-9a23-e62bc5bcf3c1",
   "metadata": {},
   "outputs": [
    {
     "data": {
      "text/plain": [
       "array([-7.2681e+00, -8.5717e-01,  5.8105e+00,  1.9771e+00,  8.8147e+00,\n",
       "       -5.8579e+00,  3.7143e+00,  3.5850e+00,  4.7987e+00, -4.4251e+00,\n",
       "        1.7461e+00, -3.7296e+00, -5.1407e+00, -1.0792e+00, -2.5555e+00,\n",
       "        3.0755e+00,  5.0141e+00,  5.8525e+00,  7.3378e+00, -2.7689e+00,\n",
       "       -5.1641e+00, -1.9879e+00,  2.9782e+00,  2.1024e+00,  4.4306e+00,\n",
       "        8.4355e-01, -6.8742e+00, -4.2949e+00, -1.7294e-01,  3.6074e+00,\n",
       "        8.4379e-01,  3.3419e-01, -4.8147e+00,  3.5683e-02, -1.3721e+01,\n",
       "       -4.6528e+00, -1.4021e+00,  4.8342e-01,  1.2549e+00, -4.0644e+00,\n",
       "        3.3278e+00, -2.1590e-01, -5.1786e+00,  3.5360e+00, -3.1575e+00,\n",
       "       -3.5273e+00, -3.6753e+00,  1.5863e+00, -8.1594e+00, -3.4657e+00,\n",
       "        1.5262e+00,  4.8135e+00, -3.8428e+00, -3.9082e+00,  6.7549e-01,\n",
       "       -3.5787e-01, -1.7806e+00,  3.5284e+00, -5.1114e-02, -9.7150e-01,\n",
       "       -9.0553e-01, -1.5570e+00,  1.2038e+00,  4.7708e+00,  9.8561e-01,\n",
       "       -2.3186e+00, -7.4899e+00, -9.5389e+00,  8.5572e+00,  2.7420e+00,\n",
       "       -3.6270e+00,  2.7456e+00, -6.9574e+00, -1.7190e+00, -2.9145e+00,\n",
       "        1.1838e+00,  3.7864e+00,  2.0413e+00, -3.5808e+00,  1.4319e+00,\n",
       "        2.0528e-01, -7.0640e-01, -5.3556e+00, -2.5911e+00,  4.4922e+00,\n",
       "        1.6574e+00,  3.9794e+00, -4.3560e+00, -2.7266e+00,  1.9581e+00,\n",
       "       -3.4842e+00, -3.9674e+00,  3.2690e+00,  6.6683e-01,  3.9837e+00,\n",
       "       -6.5997e+00,  4.1630e+00,  8.0338e+00,  3.8102e-01,  8.2656e+00,\n",
       "        9.7061e-01, -5.0807e+00,  4.9522e+00,  7.5018e+00,  3.8305e+00,\n",
       "       -3.3233e+00,  4.9126e+00,  2.4189e-01,  3.8218e+00, -3.9717e+00,\n",
       "        2.4691e+00,  1.3721e+01, -8.9664e+00,  1.0610e+01,  6.9425e-01,\n",
       "       -1.1082e+01, -5.6883e+00,  2.3287e+00,  1.6451e+00,  3.6006e+00,\n",
       "        1.2588e-01, -6.1956e+00,  1.1455e+01,  5.6682e+00, -5.0251e-01,\n",
       "       -9.8515e-01,  8.8902e-02, -4.0213e+00,  3.6134e+00, -9.0936e+00,\n",
       "       -1.4555e+01, -2.5591e+00,  4.0959e+00, -3.5929e-01,  1.0219e+00,\n",
       "        3.9402e+00,  8.0495e-01, -3.6023e+00,  2.6394e+00, -1.5258e-01,\n",
       "       -2.6182e+00, -2.6268e-01, -2.1610e+00,  2.3950e+00,  6.8842e+00,\n",
       "        3.6034e+00,  1.8058e+00,  2.4528e+00,  4.4088e+00, -1.0598e+00,\n",
       "        6.4964e+00,  5.9196e+00, -1.0261e+00, -1.7013e+00, -4.4151e+00,\n",
       "        4.3043e+00, -1.7138e+00, -4.6690e+00, -5.5212e-01,  5.3995e+00,\n",
       "        1.8311e+00, -3.5820e-01, -3.6578e-01, -2.8578e+00, -6.4639e+00,\n",
       "       -3.2155e+00,  6.7083e-01, -1.2800e+00,  1.2782e+00,  7.8274e-01,\n",
       "        1.9839e-01, -1.4163e+00,  2.1184e+00,  1.5021e+00, -1.8212e+00,\n",
       "        1.6629e+00,  4.0354e+00, -4.4648e+00, -3.4897e+00, -2.5765e+00,\n",
       "       -3.6317e+00, -4.1619e-02,  4.8660e-01,  2.0712e+00, -1.9166e+00,\n",
       "       -3.4045e+00, -7.6609e+00, -2.1940e+00, -2.3919e-03,  8.4900e-01,\n",
       "        1.3921e+00, -5.7830e+00,  4.4739e+00,  1.0642e+00,  5.7864e+00,\n",
       "        3.4643e+00, -5.9169e+00, -2.6925e+00, -1.1271e-01, -6.0462e+00,\n",
       "        3.9285e+00, -3.0423e+00, -6.9939e-02,  2.2826e-01,  8.0214e+00,\n",
       "        2.2098e+00, -1.1049e+01,  7.6001e-02, -1.5970e+00,  2.0524e-01,\n",
       "        2.8063e+00,  3.5245e+00, -3.9300e+00, -9.7995e-01,  4.0248e+00,\n",
       "        1.8447e+00, -2.0452e+00,  1.1419e+00, -4.4600e-01, -9.5551e-01,\n",
       "       -1.0224e+00,  5.9224e+00, -6.1688e+00, -8.3840e-01, -7.9102e+00,\n",
       "       -8.9575e-02, -2.7741e-01,  4.2703e+00,  4.0212e+00, -1.1166e-01,\n",
       "        2.5119e+00, -5.9635e+00, -1.2320e+00,  2.8199e-01, -4.1062e+00,\n",
       "       -6.2923e-01, -5.2420e-01,  2.5213e+00, -3.5094e+00,  6.4333e+00,\n",
       "        7.9466e+00, -3.3883e+00,  5.2535e+00,  9.4524e-02, -3.3336e+00,\n",
       "        5.9621e+00, -1.0794e+00, -6.0850e+00, -3.6071e+00, -3.8496e-01,\n",
       "        7.6137e+00, -9.1081e+00, -6.0037e+00, -2.4735e+00, -6.5050e-01,\n",
       "       -6.3021e+00,  8.5783e+00,  1.7250e-01,  4.3631e+00, -9.3439e+00,\n",
       "        2.0984e-01,  7.6900e-01,  1.0763e+01,  4.4598e-01, -3.6584e+00,\n",
       "       -3.0992e+00, -3.8868e+00,  4.3337e+00, -5.8037e+00, -1.1337e+00,\n",
       "       -6.1562e+00,  3.1820e-01, -1.0612e+00, -1.4809e+00,  6.0373e+00,\n",
       "        4.6015e-01, -1.5530e+00, -1.0562e+00,  5.8618e-01,  3.4431e+00,\n",
       "        4.5542e+00, -3.1881e+00, -1.5832e+00,  3.0859e+00,  1.3061e+00,\n",
       "       -8.0091e+00,  7.7996e+00, -5.0644e+00,  8.8719e+00,  7.2337e-01,\n",
       "       -1.2350e+00,  1.6209e+00,  7.8994e+00,  1.0741e+01,  8.1158e-01,\n",
       "        9.0156e+00, -1.5913e+00, -5.3166e+00,  3.5032e-01, -2.8850e+00],\n",
       "      dtype=float32)"
      ]
     },
     "execution_count": 5,
     "metadata": {},
     "output_type": "execute_result"
    }
   ],
   "source": [
    "sentence1[0].vector"
   ]
  },
  {
   "cell_type": "code",
   "execution_count": 6,
   "id": "0fb15403-5429-4116-828b-b52aafb03e7b",
   "metadata": {},
   "outputs": [
    {
     "name": "stdout",
     "output_type": "stream",
     "text": [
      "['country—0,467', 'nationâ\\x80\\x99s', 'countries-', 'continente', 'Carnations']\n"
     ]
    }
   ],
   "source": [
    "# palavras similares a \"Your_word\"\n",
    "import numpy as np\n",
    "your_word = \"country\"\n",
    "\n",
    "ms = nlp.vocab.vectors.most_similar(\n",
    "    np.asarray([nlp.vocab.vectors[nlp.vocab.strings[your_word]]]), n=5)\n",
    "words = [nlp.vocab.strings[w] for w in ms[0][0]]\n",
    "distances = ms[2]\n",
    "print(words)\n"
   ]
  },
  {
   "cell_type": "code",
   "execution_count": 7,
   "id": "6a92deb6-40e4-44bf-aef6-e2d70ad188a2",
   "metadata": {},
   "outputs": [],
   "source": [
    "doc1  = nlp(\"I like salty fries and hamburguers.\")\n",
    "doc2 = nlp(\"Fast food tastes very good\")"
   ]
  },
  {
   "cell_type": "code",
   "execution_count": 8,
   "id": "d7f057d9-93f4-4e93-8e47-3db2a6748495",
   "metadata": {},
   "outputs": [
    {
     "name": "stdout",
     "output_type": "stream",
     "text": [
      "I like salty fries and hamburguers. <-> Fast food tastes very good 0.5766855962962095\n"
     ]
    }
   ],
   "source": [
    "#calcula similaridade entre as frases\n",
    "print(doc1, \"<->\", doc2, doc1.similarity(doc2)) "
   ]
  },
  {
   "cell_type": "markdown",
   "id": "63c6edc7-c4cf-4ef8-948e-252eb7ec4781",
   "metadata": {},
   "source": [
    "Por algum motivo a precisão está baixa.."
   ]
  },
  {
   "cell_type": "code",
   "execution_count": 9,
   "id": "5bb3fc2e-8430-4f98-adab-df0139a4f75b",
   "metadata": {},
   "outputs": [],
   "source": [
    "doc3 = nlp(\"I enjoy oranges\")\n",
    "doc4 = nlp(\"I enjoy apples\")"
   ]
  },
  {
   "cell_type": "code",
   "execution_count": 10,
   "id": "34e931dc-d27e-4126-920f-59465de24bec",
   "metadata": {},
   "outputs": [
    {
     "name": "stdout",
     "output_type": "stream",
     "text": [
      "I enjoy oranges <-> I enjoy apples 0.9703841579038354\n"
     ]
    }
   ],
   "source": [
    "print(doc3, \"<->\", doc4, doc3.similarity(doc4)) "
   ]
  },
  {
   "cell_type": "code",
   "execution_count": 11,
   "id": "0e3fa1ef-2a2e-430a-8851-7d390d3c0422",
   "metadata": {},
   "outputs": [],
   "source": [
    "doc5 = nlp(\"he used to kill motherfuckers in war \")"
   ]
  },
  {
   "cell_type": "code",
   "execution_count": 12,
   "id": "23d12b9f-ab0c-427b-a2a5-52758d2860a1",
   "metadata": {},
   "outputs": [
    {
     "name": "stdout",
     "output_type": "stream",
     "text": [
      "I enjoy apples <-> he used to kill motherfuckers in war  0.24994568989008906\n"
     ]
    }
   ],
   "source": [
    "print(doc4, \"<->\", doc5, doc4.similarity(doc5)) "
   ]
  },
  {
   "cell_type": "code",
   "execution_count": 13,
   "id": "49d148a6-284c-4a14-a8fe-4a4f3ae5ac41",
   "metadata": {},
   "outputs": [],
   "source": [
    "#similaridad entre palavras\n",
    "french_fries = doc1[2:4]\n",
    "burgers = doc1[5]\n"
   ]
  },
  {
   "cell_type": "code",
   "execution_count": 14,
   "id": "c724cae2-533b-481f-ae08-bd991d9ad02a",
   "metadata": {},
   "outputs": [
    {
     "name": "stdout",
     "output_type": "stream",
     "text": [
      "salty fries <-> hamburguers 0.0\n"
     ]
    },
    {
     "name": "stderr",
     "output_type": "stream",
     "text": [
      "/tmp/ipykernel_1183504/1724482115.py:1: UserWarning: [W008] Evaluating Span.similarity based on empty vectors.\n",
      "  print(french_fries, \"<->\", burgers, french_fries.similarity(burgers))\n"
     ]
    }
   ],
   "source": [
    "print(french_fries, \"<->\", burgers, french_fries.similarity(burgers))"
   ]
  },
  {
   "cell_type": "markdown",
   "id": "14a09958-6cac-4a33-bfcc-46c4355bf359",
   "metadata": {},
   "source": [
    "## Spacy Pipelines"
   ]
  },
  {
   "cell_type": "code",
   "execution_count": 15,
   "id": "93f16919-f387-4b9f-811f-9ea5908efab8",
   "metadata": {},
   "outputs": [],
   "source": [
    "nlp = spacy.blank(\"en\") # criação de um modelo em branco"
   ]
  },
  {
   "cell_type": "code",
   "execution_count": 16,
   "id": "a6094433-0307-4b1a-82dc-49de600f5872",
   "metadata": {},
   "outputs": [
    {
     "data": {
      "text/plain": [
       "<spacy.pipeline.sentencizer.Sentencizer at 0x7e8ab5249490>"
      ]
     },
     "execution_count": 16,
     "metadata": {},
     "output_type": "execute_result"
    }
   ],
   "source": [
    "nlp.add_pipe(\"sentencizer\") # permite criar uma sequencia de pipes"
   ]
  },
  {
   "cell_type": "code",
   "execution_count": 17,
   "id": "bbbb7601-b9c3-42ce-9317-0b3cb68253f7",
   "metadata": {},
   "outputs": [],
   "source": [
    "import requests\n",
    "from bs4 import BeautifulSoup\n",
    "s = requests.get(\"https://ocw.mit.edu/ans7870/6/6.006/s08/lecturenotes/files/t8.shakespeare.txt\")\n",
    "soup = BeautifulSoup(s.content).text.replace(\"-\\n\", \"\").replace(\"\\n\", \" \")\n",
    "nlp.max_length = 5278439"
   ]
  },
  {
   "cell_type": "code",
   "execution_count": 19,
   "id": "607685e7-3d00-4fa8-bf0b-e9d9589836ce",
   "metadata": {},
   "outputs": [
    {
     "name": "stdout",
     "output_type": "stream",
     "text": [
      "94134\n",
      "CPU times: user 14.6 s, sys: 196 ms, total: 14.8 s\n",
      "Wall time: 14.8 s\n"
     ]
    }
   ],
   "source": [
    "%%time\n",
    "doc = nlp(soup)\n",
    "print (len(list(doc.sents)))"
   ]
  },
  {
   "cell_type": "code",
   "execution_count": 20,
   "id": "2b804b81-2d4b-453a-a2dd-52740944c6f6",
   "metadata": {},
   "outputs": [],
   "source": [
    "# Não vou exercutar os comando abaixo pois vai levar muito tempo para processar\n",
    "# nlp2 = spacy.load(\"en_core_web_sm\")\n",
    "# nlp2.max_length = 5278439\n",
    "# %%time\n",
    "# doc = nlp2(soup)\n",
    "# print (len(list(doc.sents)))"
   ]
  },
  {
   "cell_type": "markdown",
   "id": "8329fd47-a33f-4cd4-ba87-94c255dc92e2",
   "metadata": {},
   "source": [
    "### examinando pipeline"
   ]
  },
  {
   "cell_type": "code",
   "execution_count": 21,
   "id": "65539279-263b-4b70-b083-f6a4444640f6",
   "metadata": {},
   "outputs": [
    {
     "data": {
      "text/plain": [
       "{'summary': {'sentencizer': {'assigns': ['token.is_sent_start', 'doc.sents'],\n",
       "   'requires': [],\n",
       "   'scores': ['sents_f', 'sents_p', 'sents_r'],\n",
       "   'retokenizes': False}},\n",
       " 'problems': {'sentencizer': []},\n",
       " 'attrs': {'doc.sents': {'assigns': ['sentencizer'], 'requires': []},\n",
       "  'token.is_sent_start': {'assigns': ['sentencizer'], 'requires': []}}}"
      ]
     },
     "execution_count": 21,
     "metadata": {},
     "output_type": "execute_result"
    }
   ],
   "source": [
    "nlp.analyze_pipes()"
   ]
  },
  {
   "cell_type": "code",
   "execution_count": null,
   "id": "f027c1dc-8e20-4271-b3c7-cd74e571316e",
   "metadata": {},
   "outputs": [],
   "source": []
  }
 ],
 "metadata": {
  "kernelspec": {
   "display_name": "Python 3 (ipykernel)",
   "language": "python",
   "name": "python3"
  },
  "language_info": {
   "codemirror_mode": {
    "name": "ipython",
    "version": 3
   },
   "file_extension": ".py",
   "mimetype": "text/x-python",
   "name": "python",
   "nbconvert_exporter": "python",
   "pygments_lexer": "ipython3",
   "version": "3.12.3"
  }
 },
 "nbformat": 4,
 "nbformat_minor": 5
}
